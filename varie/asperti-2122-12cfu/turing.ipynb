{
  "nbformat": 4,
  "nbformat_minor": 0,
  "metadata": {
    "colab": {
      "name": "Turing.ipynb",
      "provenance": []
    },
    "kernelspec": {
      "name": "python3",
      "display_name": "Python 3"
    },
    "language_info": {
      "name": "python"
    }
  },
  "cells": [
    {
      "cell_type": "code",
      "metadata": {
        "id": "7UUnDN0IWXFy"
      },
      "source": [
        "#we use None for the blank \n",
        "class Tape:\n",
        "  def __init__(self,left,current,right):\n",
        "    self.left = left\n",
        "    self.current = current\n",
        "    self.right = right\n",
        "\n",
        "  def write(self,c):\n",
        "    self.current = c\n",
        "\n",
        "  def move(self,m):\n",
        "    if m == 'L':\n",
        "      if self.left == []:\n",
        "          self.right.insert(0,self.current)\n",
        "          self.current = None\n",
        "      else:\n",
        "          self.right.insert(0,self.current)\n",
        "          self.current = self.left.pop()\n",
        "    elif m == 'R':\n",
        "      if self.right == []:\n",
        "          self.left.append(self.current)\n",
        "          self.current = None\n",
        "      else:\n",
        "          self.left.append(self.current)\n",
        "          self.current = self.right[0]\n",
        "          del self.right[0]\n",
        "\n",
        "  def act(self,c,m):\n",
        "    print(c,m)\n",
        "    self.write(c)\n",
        "    self.move(m)\n",
        "\n",
        "  def show(self):\n",
        "    print(self.left,self.current,self.right)"
      ],
      "execution_count": null,
      "outputs": []
    },
    {
      "cell_type": "code",
      "metadata": {
        "id": "tG1zJBroZhC1"
      },
      "source": [
        "#Esempi\n",
        "tape = Tape([],'0',[])\n",
        "while True:\n",
        "  action = input()\n",
        "  c,m = action.split(\",\")\n",
        "  tape.act(c,m)\n",
        "  tape.show()"
      ],
      "execution_count": null,
      "outputs": []
    },
    {
      "cell_type": "code",
      "metadata": {
        "id": "sJPeIR5VeodH"
      },
      "source": [
        "class Configuration:\n",
        "  def __init__(self,tape,state):\n",
        "    self.tape = tape\n",
        "    self.state = state"
      ],
      "execution_count": null,
      "outputs": []
    },
    {
      "cell_type": "code",
      "metadata": {
        "id": "rBTjI0vHAKna"
      },
      "source": [
        "class TuringMachine:\n",
        "  def __init__(self,Sigma,Q,start,halt,code):\n",
        "    self.Sigma = Sigma\n",
        "    self.states = Q\n",
        "    self.start = start\n",
        "    self.halt = halt\n",
        "    self.code = code\n",
        "\n",
        "  def action(self,q,a):\n",
        "    print(\"act:\",q,a)\n",
        "    for (q1,a1,q2,a2,m) in self.code:\n",
        "      if q1==q and a1==a:\n",
        "        return (q2,a2,m)\n",
        "    return None"
      ],
      "execution_count": null,
      "outputs": []
    },
    {
      "cell_type": "code",
      "metadata": {
        "id": "fSeqEZovfuo3"
      },
      "source": [
        "def step(c,M):\n",
        "  a = c.tape.current\n",
        "  s = c.state\n",
        "  action = M.action(s,a)\n",
        "  #print(\"action is \",action)\n",
        "  if action:\n",
        "    qnew,anew,m = action\n",
        "    c.state = qnew\n",
        "    c.tape.act(anew,m)\n",
        "  else: #no action found\n",
        "    c.state = 'error' #we suppose to always have a special error state\n",
        "\n",
        "def exec(c,M):\n",
        "  while not(c.state=='error') and not(M.halt(c.state)):\n",
        "    step(c,M)\n",
        "    c.tape.show()"
      ],
      "execution_count": null,
      "outputs": []
    },
    {
      "cell_type": "code",
      "metadata": {
        "id": "oaZ_FPxxCTIQ",
        "colab": {
          "base_uri": "https://localhost:8080/"
        },
        "outputId": "b6ab12df-3030-4f33-9c60-7b09ceef7843"
      },
      "source": [
        "#example\n",
        "#una macchina che si sposta a destra fino al primo blank\n",
        "\n",
        "goright = TuringMachine(['0','1'],\n",
        "                        ['start','end'],\n",
        "                        'start',\n",
        "                        lambda s: s=='end',\n",
        "                        [('start','0','start','0','R'),\n",
        "                         ('start','1','start','1','R'),\n",
        "                         ('start',None,'end',None,'L')])\n",
        "\n",
        "init_configuration = Configuration(Tape([],'0',['0','1','0']),goright.start)\n",
        "exec(init_configuration,goright)"
      ],
      "execution_count": null,
      "outputs": [
        {
          "output_type": "stream",
          "name": "stdout",
          "text": [
            "act: start 0\n",
            "0 R\n",
            "['0'] 0 ['1', '0']\n",
            "act: start 0\n",
            "0 R\n",
            "['0', '0'] 1 ['0']\n",
            "act: start 1\n",
            "1 R\n",
            "['0', '0', '1'] 0 []\n",
            "act: start 0\n",
            "0 R\n",
            "['0', '0', '1', '0'] None []\n",
            "act: start None\n",
            "None L\n",
            "['0', '0', '1'] 0 [None]\n"
          ]
        }
      ]
    },
    {
      "cell_type": "markdown",
      "metadata": {
        "id": "BY3VutY3-y-b"
      },
      "source": [
        ""
      ]
    },
    {
      "cell_type": "code",
      "metadata": {
        "id": "1JQWWX52-iSX"
      },
      "source": [
        "# riconoscimento del linguaggio delle stringe w#w dove w è una stringa di 0 e 1.\n",
        "# marchiano i caratteri letti con * e quelli corrispondenti nella seconda stringa con $\n",
        "# il nastro è tipicamente in uno stato della forma\n",
        "#        **..*w#$$..$w \n",
        "# dove il numero di $ e uguale o inferiore di uno a quello delle *, a secondo che il\n",
        "# carattere letto sia già stato \"matchato\" oppure no.\n",
        "# Il carrattere letto x è salvato nello stato interno.\n",
        "# La macchina si trova in un di qusto stati:\n",
        "# - start\n",
        "# - cerco x, sono a sinistra di #\n",
        "# - cerco x, sono a destra di #\n",
        "# - ritorno\n",
        "# - accetta\n",
        "# - rifiuta"
      ],
      "execution_count": null,
      "outputs": []
    },
    {
      "cell_type": "code",
      "metadata": {
        "id": "V3k4-LAyAWlE"
      },
      "source": [
        "mach = TuringMachine(['0','1','#','*','$'],\n",
        "                     ['start',\n",
        "                      'cerco 0 sono a sinistra di #',\n",
        "                      'cerco 1 sono a sinistra di #',\n",
        "                      'cerco 0 sono a destra di #',\n",
        "                      'cerco 1 sono a destra di #',\n",
        "                      'ritorno',\n",
        "                      'accetta',\n",
        "                      'rifiuta'\n",
        "                      ],\n",
        "                     'start',\n",
        "                     lambda s: s == 'accetta' or s == 'rifiuta',\n",
        "                     [('start','0','cerco 0 sono a sinistra di #','*','R'),\n",
        "                      ('start','1','cerco 1 sono a sinistra di #','*','R'),\n",
        "                      ('start','#','cerco None sono a destra di #','#','R'),\n",
        "                      ('cerco 0 sono a sinistra di #','0','cerco 0 sono a sinistra di #','0','R'), \n",
        "                      ('cerco 0 sono a sinistra di #','1','cerco 0 sono a sinistra di #','1','R'),\n",
        "                      ('cerco 0 sono a sinistra di #','#','cerco 0 sono a destra di #','#','R'),\n",
        "                      ('cerco 1 sono a sinistra di #','0','cerco 1 sono a sinistra di #','0','R'),\n",
        "                      ('cerco 1 sono a sinistra di #','1','cerco 1 sono a sinistra di #','1','R'),\n",
        "                      ('cerco 1 sono a sinistra di #','#','cerco 1 sono a destra di #','#','R'),\n",
        "                      ('cerco 0 sono a destra di #','0','ritorno','$','L'),\n",
        "                      ('cerco 0 sono a destra di #','$','cerco 0 sono a destra di #','$','R'),\n",
        "                      ('cerco 1 sono a destra di #','1','ritorno','$','L'),\n",
        "                      ('cerco 1 sono a destra di #','$','cerco 1 sono a destra di #','$','R'),\n",
        "                      ('cerco None sono a destra di #', None,'accept', None,'R'),\n",
        "                      ('cerco None sono a destra di #', '$','cerco None sono a destra di #', '$','R'),\n",
        "                      ('ritorno','$','ritorno','$','L'),\n",
        "                      ('ritorno','#','ritorno','#','L'),\n",
        "                      ('ritorno','0','ritorno','0','L'),\n",
        "                      ('ritorno','1','ritorno','1','L'),\n",
        "                      ('ritorno','*','start','*','R')\n",
        "                      ])"
      ],
      "execution_count": null,
      "outputs": []
    },
    {
      "cell_type": "code",
      "metadata": {
        "id": "gmMCrQ3tC55K"
      },
      "source": [
        "conf = Configuration(Tape([],'0',['0','1','#','0','0','1']),mach.start)"
      ],
      "execution_count": null,
      "outputs": []
    },
    {
      "cell_type": "code",
      "metadata": {
        "colab": {
          "base_uri": "https://localhost:8080/"
        },
        "id": "6uB1P4Q9KsS0",
        "outputId": "a761676c-62cd-44ef-92f3-35a3ffab63ec"
      },
      "source": [
        "exec(conf,mach)"
      ],
      "execution_count": null,
      "outputs": [
        {
          "output_type": "stream",
          "name": "stdout",
          "text": [
            "act: start 0\n",
            "* R\n",
            "['*'] 0 ['1', '#', '0', '0', '1']\n",
            "act: cerco 0 sono a sinistra di # 0\n",
            "0 R\n",
            "['*', '0'] 1 ['#', '0', '0', '1']\n",
            "act: cerco 0 sono a sinistra di # 1\n",
            "1 R\n",
            "['*', '0', '1'] # ['0', '0', '1']\n",
            "act: cerco 0 sono a sinistra di # #\n",
            "# R\n",
            "['*', '0', '1', '#'] 0 ['0', '1']\n",
            "act: cerco 0 sono a destra di # 0\n",
            "$ L\n",
            "['*', '0', '1'] # ['$', '0', '1']\n",
            "act: ritorno #\n",
            "# L\n",
            "['*', '0'] 1 ['#', '$', '0', '1']\n",
            "act: ritorno 1\n",
            "1 L\n",
            "['*'] 0 ['1', '#', '$', '0', '1']\n",
            "act: ritorno 0\n",
            "0 L\n",
            "[] * ['0', '1', '#', '$', '0', '1']\n",
            "act: ritorno *\n",
            "* R\n",
            "['*'] 0 ['1', '#', '$', '0', '1']\n",
            "act: start 0\n",
            "* R\n",
            "['*', '*'] 1 ['#', '$', '0', '1']\n",
            "act: cerco 0 sono a sinistra di # 1\n",
            "1 R\n",
            "['*', '*', '1'] # ['$', '0', '1']\n",
            "act: cerco 0 sono a sinistra di # #\n",
            "# R\n",
            "['*', '*', '1', '#'] $ ['0', '1']\n",
            "act: cerco 0 sono a destra di # $\n",
            "$ R\n",
            "['*', '*', '1', '#', '$'] 0 ['1']\n",
            "act: cerco 0 sono a destra di # 0\n",
            "$ L\n",
            "['*', '*', '1', '#'] $ ['$', '1']\n",
            "act: ritorno $\n",
            "$ L\n",
            "['*', '*', '1'] # ['$', '$', '1']\n",
            "act: ritorno #\n",
            "# L\n",
            "['*', '*'] 1 ['#', '$', '$', '1']\n",
            "act: ritorno 1\n",
            "1 L\n",
            "['*'] * ['1', '#', '$', '$', '1']\n",
            "act: ritorno *\n",
            "* R\n",
            "['*', '*'] 1 ['#', '$', '$', '1']\n",
            "act: start 1\n",
            "* R\n",
            "['*', '*', '*'] # ['$', '$', '1']\n",
            "act: cerco 1 sono a sinistra di # #\n",
            "# R\n",
            "['*', '*', '*', '#'] $ ['$', '1']\n",
            "act: cerco 1 sono a destra di # $\n",
            "$ R\n",
            "['*', '*', '*', '#', '$'] $ ['1']\n",
            "act: cerco 1 sono a destra di # $\n",
            "$ R\n",
            "['*', '*', '*', '#', '$', '$'] 1 []\n",
            "act: cerco 1 sono a destra di # 1\n",
            "$ L\n",
            "['*', '*', '*', '#', '$'] $ ['$']\n",
            "act: ritorno $\n",
            "$ L\n",
            "['*', '*', '*', '#'] $ ['$', '$']\n",
            "act: ritorno $\n",
            "$ L\n",
            "['*', '*', '*'] # ['$', '$', '$']\n",
            "act: ritorno #\n",
            "# L\n",
            "['*', '*'] * ['#', '$', '$', '$']\n",
            "act: ritorno *\n",
            "* R\n",
            "['*', '*', '*'] # ['$', '$', '$']\n",
            "act: start #\n",
            "# R\n",
            "['*', '*', '*', '#'] $ ['$', '$']\n",
            "act: cerco None sono a destra di # $\n",
            "$ R\n",
            "['*', '*', '*', '#', '$'] $ ['$']\n",
            "act: cerco None sono a destra di # $\n",
            "$ R\n",
            "['*', '*', '*', '#', '$', '$'] $ []\n",
            "act: cerco None sono a destra di # $\n",
            "$ R\n",
            "['*', '*', '*', '#', '$', '$', '$'] None []\n",
            "act: cerco None sono a destra di # None\n",
            "None R\n",
            "['*', '*', '*', '#', '$', '$', '$', None] None []\n",
            "act: accept None\n",
            "['*', '*', '*', '#', '$', '$', '$', None] None []\n"
          ]
        }
      ]
    },
    {
      "cell_type": "markdown",
      "metadata": {
        "id": "X63v5G6sOuPQ"
      },
      "source": [
        "aaa"
      ]
    }
  ]
}